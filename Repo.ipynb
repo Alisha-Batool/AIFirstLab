{
  "nbformat": 4,
  "nbformat_minor": 0,
  "metadata": {
    "colab": {
      "provenance": []
    },
    "kernelspec": {
      "name": "python3",
      "display_name": "Python 3"
    },
    "language_info": {
      "name": "python"
    }
  },
  "cells": [
    {
      "cell_type": "markdown",
      "source": [
        "# A* (Heuristic Algorithm) *\n",
        "\n",
        "🗺️ The Graph\n",
        "\n",
        "We model a weighted graph where each city is a node, and edges are the road distances (in km):\n",
        "\n",
        "1. Berlin → Leipzig (190 km), Berlin → Prague (350 km)\n",
        "\n",
        "2. Leipzig → Munich (430 km)\n",
        "\n",
        "3. Prague → Vienna (330 km)\n",
        "\n",
        "4. Munich → Zurich (310 km)\n",
        "\n",
        "5. Vienna → Zurich (680 km)\n",
        "\n",
        "🎯 Heuristic\n",
        "\n",
        "We give each city an estimated straight-line distance to Zurich:\n",
        "\n",
        "1. Berlin → 650\n",
        "\n",
        "2. Leipzig → 500\n",
        "\n",
        "3. Prague → 600\n",
        "\n",
        "4. Munich → 310\n",
        "\n",
        "5. Vienna → 680\n",
        "\n",
        "6. Zurich → 0\n",
        "\n",
        "👉 These values are admissible (they don’t overestimate the real shortest path), so A* will still guarantee optimality."
      ],
      "metadata": {
        "id": "0u8q6oFMKY2I"
      }
    },
    {
      "cell_type": "code",
      "execution_count": 9,
      "metadata": {
        "id": "ZyzgTD7pG3Gi"
      },
      "outputs": [],
      "source": [
        "import heapq"
      ]
    },
    {
      "cell_type": "code",
      "source": [
        "import heapq\n",
        "\n",
        "# Weighted graph: each city maps to a dict of neighbors with distances (km)\n",
        "graph = {\n",
        "    \"Berlin\": {\"Leipzig\": 190, \"Prague\": 350},\n",
        "    \"Leipzig\": {\"Berlin\": 190, \"Munich\": 430},\n",
        "    \"Prague\": {\"Berlin\": 350, \"Vienna\": 330},\n",
        "    \"Munich\": {\"Leipzig\": 430, \"Zurich\": 310},\n",
        "    \"Vienna\": {\"Prague\": 330, \"Zurich\": 680},\n",
        "    \"Zurich\": {\"Munich\": 310, \"Vienna\": 680}\n",
        "}\n",
        "\n",
        "# Heuristic: straight-line (rough estimates to Zurich as goal)\n",
        "heuristic = {\n",
        "    \"Berlin\": 650,\n",
        "    \"Leipzig\": 500,\n",
        "    \"Prague\": 600,\n",
        "    \"Munich\": 310,\n",
        "    \"Vienna\": 680,\n",
        "    \"Zurich\": 0\n",
        "}\n",
        "\n",
        "def a_star(graph, start, goal, heuristic):\n",
        "    open_list = []\n",
        "    heapq.heappush(open_list, (heuristic[start], [start]))\n",
        "    g_costs = {start: 0}\n",
        "    closed_set = set()\n",
        "\n",
        "    while open_list:\n",
        "        f, path = heapq.heappop(open_list)\n",
        "        node = path[-1]\n",
        "\n",
        "        if node == goal:\n",
        "            return path, g_costs[node]\n",
        "\n",
        "        if node in closed_set:\n",
        "            continue\n",
        "\n",
        "        closed_set.add(node)\n",
        "\n",
        "        for neighbor, cost in graph[node].items():\n",
        "            tentative_g = g_costs[node] + cost\n",
        "\n",
        "            if neighbor not in g_costs or tentative_g < g_costs[neighbor]:\n",
        "                g_costs[neighbor] = tentative_g\n",
        "                f_cost = tentative_g + heuristic.get(neighbor, float('inf'))\n",
        "                new_path = path + [neighbor]\n",
        "                heapq.heappush(open_list, (f_cost, new_path))\n",
        "\n",
        "    return None, float('inf')\n",
        "\n",
        "\n",
        "# Example run\n",
        "if __name__ == \"__main__\":\n",
        "    start_city = \"Berlin\"\n",
        "    goal_city = \"Zurich\"\n",
        "    path, cost = a_star(graph, start_city, goal_city, heuristic)\n",
        "    print(\"A* path:\", path)\n",
        "    print(\"Total cost:\", cost)\n",
        "\n"
      ],
      "metadata": {
        "colab": {
          "base_uri": "https://localhost:8080/"
        },
        "id": "YSb2RT5rKSrm",
        "outputId": "11dc7a06-6bee-4f37-c5c2-8e6c443df7a1"
      },
      "execution_count": 22,
      "outputs": [
        {
          "output_type": "stream",
          "name": "stdout",
          "text": [
            "A* path: ['Lahore', 'Faisalabad', 'Multan', 'Karachi']\n",
            "Total cost: 1280\n"
          ]
        }
      ]
    },
    {
      "cell_type": "markdown",
      "source": [
        "# ⚙️ How A* Works Here\n",
        "\n",
        "1. Start = Berlin, Goal = Zurich\n",
        "\n",
        "* Push Berlin with f = g + h = 0 + 650 = 650.\n",
        "2. Expand Berlin\n",
        "\n",
        "* Neighbors: Leipzig (g=190), Prague (g=350).\n",
        "\n",
        "* f(Leipzig) = 190 + 500 = 690\n",
        "\n",
        "* f(Prague) = 350 + 600 = 950\n",
        "\n",
        "→ Priority queue = [(690, path to Leipzig), (950, path to Prague)]\n",
        "\n",
        "3. Expand Leipzig (lowest f = 690)\n",
        "\n",
        "* Neighbors: Munich.\n",
        "\n",
        "* g(Munich) = 190 + 430 = 620\n",
        "\n",
        "* f(Munich) = 620 + 310 = 930\n",
        "\n",
        "→ Queue = [(930, path to Munich), (950, path to Prague)]\n",
        "\n",
        "4. Expand Munich (lowest f = 930)\n",
        "\n",
        "* Neighbor: Zurich.\n",
        "\n",
        "* g(Zurich) = 620 + 310 = 930\n",
        "\n",
        "* f(Zurich) = 930 + 0 = 930\n",
        "\n",
        "→ Goal found! 🎉\n",
        "\n",
        "✅ Final Result\n",
        "\n",
        "* Path = ['Berlin', 'Leipzig', 'Munich', 'Zurich']\n",
        "\n",
        "* Cost = 930 km\n",
        "\n",
        "💡 Key Takeaways\n",
        "\n",
        "* heapq ensures we always expand the node with the lowest f = g + h.\n",
        "\n",
        "* g_costs keeps track of the shortest known distance to each node.\n",
        "\n",
        "* heuristic helps A* guide the search towards Zurich, instead of exploring blindly.\n",
        "\n",
        "If the heuristic were -1 or negative, Zurich could get prioritized wrongly, possibly breaking the optimality guarantee."
      ],
      "metadata": {
        "id": "tlP1haVjfhjd"
      }
    }
  ]
}