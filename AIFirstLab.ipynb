{
  "nbformat": 4,
  "nbformat_minor": 0,
  "metadata": {
    "colab": {
      "provenance": [],
      "toc_visible": true,
      "gpuType": "T4"
    },
    "kernelspec": {
      "name": "python3",
      "display_name": "Python 3"
    },
    "language_info": {
      "name": "python"
    },
    "accelerator": "GPU"
  },
  "cells": [
    {
      "cell_type": "markdown",
      "source": [
        "# HELLO\n",
        "# Title\n",
        "\n",
        "*   ADD\n",
        "*   Subtract\n",
        "*   Multiplication\n",
        "*   Division\n",
        "# New Section"
      ],
      "metadata": {
        "id": "miQhZQ01366k"
      }
    },
    {
      "cell_type": "code",
      "execution_count": null,
      "metadata": {
        "colab": {
          "base_uri": "https://localhost:8080/"
        },
        "id": "yr8rB59Q2ofU",
        "outputId": "98bb74b9-0a42-43b8-b6e7-3e2fdc53e53c"
      },
      "outputs": [
        {
          "output_type": "stream",
          "name": "stdout",
          "text": [
            "hello\n",
            "Addition: 10\n",
            "Subtract: 2\n",
            "Multiplication: 24\n",
            "Division: 1.5\n"
          ]
        }
      ],
      "source": [
        "print(\"hello\");\n",
        "a = 6;\n",
        "b = 4;\n",
        "addition = a + b;\n",
        "subtract = a - b;\n",
        "multiply = a * b;\n",
        "division = a / b;\n",
        "print(\"Addition:\",addition);\n",
        "print(\"Subtract:\",subtract);\n",
        "print(\"Multiplication:\",multiply);\n",
        "print(\"Division:\",division);"
      ]
    }
  ]
}