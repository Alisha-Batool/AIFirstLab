{
  "nbformat": 4,
  "nbformat_minor": 0,
  "metadata": {
    "colab": {
      "provenance": [],
      "toc_visible": true
    },
    "kernelspec": {
      "name": "python3",
      "display_name": "Python 3"
    },
    "language_info": {
      "name": "python"
    }
  },
  "cells": [
    {
      "cell_type": "code",
      "source": [
        "# create  a list of 10 integer\n",
        "a = [10,12,13,14,15,11,16,17,18,19]\n",
        "print(\"original list: \" , a)\n",
        "# find and print the sum,max,and min value\n",
        "print(\"sum of the list: \" , sum(a))\n",
        "print(\"max value of the list: \" , max(a))\n",
        "print(\"min value of the list: \" , min(a))\n",
        "# add new element in the list\n",
        "a.append(20)\n",
        "print(\"new list: \" , a)\n",
        "# remove existing element from the list\n",
        "a.remove(10)\n",
        "print(\"new list: \" , a)\n",
        "# print new list\n",
        "print(\"new list: \" , a)\n",
        "# sort the list in ascending order\n",
        "a.sort()\n",
        "print(\"new list: \" , a)\n",
        "# sort the list in descending order\n",
        "a.sort(reverse=True)\n",
        "print(\"new list: \" , a)\n"
      ],
      "metadata": {
        "colab": {
          "base_uri": "https://localhost:8080/"
        },
        "id": "v31oY8ImAgLR",
        "outputId": "5330220e-bce1-44b5-c64f-2b466013a4f9"
      },
      "execution_count": 3,
      "outputs": [
        {
          "output_type": "stream",
          "name": "stdout",
          "text": [
            "original list:  [10, 12, 13, 14, 15, 11, 16, 17, 18, 19]\n",
            "sum of the list:  145\n",
            "max value of the list:  19\n",
            "min value of the list:  10\n",
            "new list:  [10, 12, 13, 14, 15, 11, 16, 17, 18, 19, 20]\n",
            "new list:  [12, 13, 14, 15, 11, 16, 17, 18, 19, 20]\n",
            "new list:  [12, 13, 14, 15, 11, 16, 17, 18, 19, 20]\n",
            "new list:  [11, 12, 13, 14, 15, 16, 17, 18, 19, 20]\n",
            "new list:  [20, 19, 18, 17, 16, 15, 14, 13, 12, 11]\n"
          ]
        }
      ]
    },
    {
      "cell_type": "markdown",
      "source": [
        "# **Lists**\n",
        "1. create  a list of 10 integers\n",
        "2. find and print the sum,max,and min value\n",
        "3. add new element to the list and remove an existing one\n",
        "4. print new list\n",
        "5. sort the list in ascending/descending order\n",
        "\n",
        "\n",
        "\n",
        "\n"
      ],
      "metadata": {
        "id": "qIedd0_35YeL"
      }
    },
    {
      "cell_type": "code",
      "source": [
        "#create a tuple with 5 strings\n",
        "a = (\"apple\", \"banana\", \"cherry\", \"date\", \"elderberry\")\n",
        "print(a)\n",
        "# access and print the second and last element\n",
        "print(a[1])\n",
        "print(a[-1])\n",
        "# add new element to the tuple\n",
        "b = list(a)\n",
        "b.append(\"fig\")\n",
        "a = tuple(b)\n",
        "print(a)\n",
        "# remove an element from the tuple\n",
        "b = list(a)\n",
        "b.remove(\"apple\")\n",
        "a = tuple(b)\n",
        "print(a)"
      ],
      "metadata": {
        "colab": {
          "base_uri": "https://localhost:8080/"
        },
        "id": "vmQq_lEiEqJA",
        "outputId": "21af87eb-efd4-42d0-caa8-8bf562b1b7e1"
      },
      "execution_count": 8,
      "outputs": [
        {
          "output_type": "stream",
          "name": "stdout",
          "text": [
            "('apple', 'banana', 'cherry', 'date', 'elderberry')\n",
            "banana\n",
            "elderberry\n",
            "('apple', 'banana', 'cherry', 'date', 'elderberry', 'fig')\n",
            "('banana', 'cherry', 'date', 'elderberry', 'fig')\n"
          ]
        }
      ]
    },
    {
      "cell_type": "markdown",
      "source": [
        "# **Tuples**\n",
        "1. create a tuple with 5 strings\n",
        "2. access and print the second and last element\n",
        "3. add new element to the tuple\n",
        "4. remove an element from the tuple"
      ],
      "metadata": {
        "id": "q0Qtaq2h5jRy"
      }
    },
    {
      "cell_type": "code",
      "source": [
        "# create two sets with some common and unique elements\n",
        "a = {1, 2, 3, 4, 5}\n",
        "b = {4, 5, 6, 7, 8}\n",
        "# find and print the union of the sets\n",
        "print(a.union(b))\n",
        "# find and print the intersection of the sets\n",
        "print(a.intersection(b))\n",
        "# find and print the difference between the sets\n",
        "print(a.difference(b))\n",
        "# find and print the symmetric difference between the sets\n",
        "print(a.symmetric_difference(b))"
      ],
      "metadata": {
        "colab": {
          "base_uri": "https://localhost:8080/"
        },
        "id": "x-QyhZ4iIEBI",
        "outputId": "94bbb58d-3ff7-4ceb-d196-8e7f80903c24"
      },
      "execution_count": 9,
      "outputs": [
        {
          "output_type": "stream",
          "name": "stdout",
          "text": [
            "{1, 2, 3, 4, 5, 6, 7, 8}\n",
            "{4, 5}\n",
            "{1, 2, 3}\n",
            "{1, 2, 3, 6, 7, 8}\n"
          ]
        }
      ]
    },
    {
      "cell_type": "markdown",
      "source": [
        "# **Sets**\n",
        "1. create two sets with some common and unique elements\n",
        "2. find and print the union of the sets\n",
        "3. find and print the intersection of the sets\n",
        "4. find and print the difference between the sets\n",
        "5. find and print the symmetric difference between the sets"
      ],
      "metadata": {
        "id": "Gu_EZYt45jnj"
      }
    },
    {
      "cell_type": "code",
      "source": [
        "# create 5-key values pairs and marks\n",
        "students = {\"Ali\" : 85,\"Sara\" : 92,\"Ahmed\" : 78,\"Fatima\" : 95,\"Hassan\" : 88}\n",
        "print(students)\n",
        "# find and print the length of the dictionary\n",
        "print(len(students))\n",
        "# find and print the keys of the dictionary\n",
        "print(students.keys())\n",
        "# find and print the values of the dictionary\n",
        "print(students.values())\n",
        "# update value\n",
        "students [\"Ali\"] = 90;\n",
        "print(\"update dictionary: \", students)"
      ],
      "metadata": {
        "colab": {
          "base_uri": "https://localhost:8080/"
        },
        "id": "4ZNZlfz4KIlv",
        "outputId": "5cb5eeba-52e0-42ac-e665-553733012730"
      },
      "execution_count": 12,
      "outputs": [
        {
          "output_type": "stream",
          "name": "stdout",
          "text": [
            "{'Ali': 85, 'Sara': 92, 'Ahmed': 78, 'Fatima': 95, 'Hassan': 88}\n",
            "5\n",
            "dict_keys(['Ali', 'Sara', 'Ahmed', 'Fatima', 'Hassan'])\n",
            "dict_values([85, 92, 78, 95, 88])\n",
            "update dictionary:  {'Ali': 90, 'Sara': 92, 'Ahmed': 78, 'Fatima': 95, 'Hassan': 88}\n"
          ]
        }
      ]
    },
    {
      "cell_type": "markdown",
      "source": [
        "# **Dictionaries**\n",
        "1. 5 key value pairs student name and marks\n",
        "2. print keys and values\n",
        "3. update value"
      ],
      "metadata": {
        "id": "XO6o1ira5kZq"
      }
    },
    {
      "cell_type": "markdown",
      "source": [
        "# **Numpy**"
      ],
      "metadata": {
        "id": "-izQ-hH45ktS"
      }
    },
    {
      "cell_type": "markdown",
      "source": [
        "# **Matplotlib**"
      ],
      "metadata": {
        "id": "ywS6AzX-5k-6"
      }
    }
  ]
}